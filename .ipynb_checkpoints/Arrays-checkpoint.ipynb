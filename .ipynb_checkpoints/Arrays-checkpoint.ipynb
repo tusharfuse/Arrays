{
 "cells": [
  {
   "cell_type": "raw",
   "id": "a564323c-9b92-48ba-b1fb-e1a5a1f588eb",
   "metadata": {},
   "source": [
    "1.Given an array, check if it contains any duplicates or not.\n",
    "arr = [1, 2, 4, 2, 5, 9]\n",
    "Output = True"
   ]
  },
  {
   "cell_type": "code",
   "execution_count": 18,
   "id": "7c5a3e7e-3482-4194-8ce9-4091b12dc5bb",
   "metadata": {},
   "outputs": [
    {
     "name": "stdout",
     "output_type": "stream",
     "text": [
      "True\n"
     ]
    }
   ],
   "source": [
    "##Method Defintion\n",
    "def duplicates(arr):\n",
    "    seen = set()\n",
    "    duplicates =[]\n",
    "    for i in arr:\n",
    "        if i not in seen:\n",
    "            seen.add(i)\n",
    "        else:\n",
    "            duplicates.append(i) # Add to duplicates but continue checking\n",
    "            return True\n",
    "\n",
    "#Driver code\n",
    "arr = [1, 2, 4, 2, 5, 9]\n",
    "result = duplicates(arr)\n",
    "print(result)"
   ]
  },
  {
   "cell_type": "raw",
   "id": "474cb537-be9a-42ec-8327-d6ee6de5a611",
   "metadata": {},
   "source": [
    "1.Function Definition:\n",
    "def duplicates(arr):Defines a function duplicates(arr) that takes an array arr as input to check for duplicate elements.\n",
    "\n",
    "2.Initialize a Set: seen = set()\n",
    "A set named seen is initialized to store elements of the array that have been encountered. Sets are used because they allow fast lookup.\n",
    "\n",
    "3.Initialize a List for Duplicates: duplicates = []\n",
    "A list duplicates is initialized to store any duplicates found in the array.\n",
    "\n",
    "4.Iterating through the Array: for i in arr:\n",
    "The function iterates over each element i in the array arr.\n",
    "\n",
    "5.Checking if Element is in Set:\n",
    "if i not in seen:\n",
    "    seen.add(i)\n",
    "For each element i, it checks if it is not in the seen set.\n",
    "If it's not, it adds the element to the seen set to track it.\n",
    "\n",
    "6.Duplicate Found:\n",
    "else:\n",
    "    duplicates.append(i)\n",
    "    return True\n",
    "If the element i is already in the seen set, it means the element is a duplicate.\n",
    "The element is added to the duplicates list, and the function returns True immediately (indicating that a duplicate was found). The function ends here for the first duplicate."
   ]
  },
  {
   "cell_type": "raw",
   "id": "96211c42-ed95-4be7-a12f-05a56e4dde83",
   "metadata": {},
   "source": [
    "2.Given an array and an integer k, rotate the array to the right by k steps.\n",
    "arr = [1, 2, 3, 4, 5, 6, 7]\n",
    "k = 3\n",
    "Output = [5, 6, 7, 1, 2, 3, 4]"
   ]
  },
  {
   "cell_type": "code",
   "execution_count": 9,
   "id": "a4a1ac38-1586-40a3-b675-1b028e549987",
   "metadata": {},
   "outputs": [
    {
     "name": "stdout",
     "output_type": "stream",
     "text": [
      "[5, 6, 7, 1, 2, 3, 4]\n"
     ]
    }
   ],
   "source": [
    "def reverse_arr(arr,sI,eI):\n",
    "    # Swap elements until the start pointer meets the end pointer\n",
    "    while(sI < eI):\n",
    "        # Swap the elements\n",
    "        arr[sI] , arr[eI] = arr[eI] , arr[sI]\n",
    "        sI+=1 #move start pointer right\n",
    "        eI-=1 #move start pointer left\n",
    "        \n",
    "def rotate_arr(arr, k):\n",
    "    k = k%len(arr) #if 'k' is larger than the array length, we only rotate by the remainder\n",
    "    \n",
    "    #reverse entire array\n",
    "    reverse_arr(arr,0,len(arr)-1)\n",
    "    \n",
    "    #reverse 1st k elements\n",
    "    reverse_arr(arr,0,k-1)\n",
    "    \n",
    "    #reverse n-k elements\n",
    "    reverse_arr(arr , k , len(arr)-1)\n",
    "    \n",
    "#Driver Code\n",
    "arr = [1, 2, 3, 4, 5, 6, 7]  \n",
    "k=3\n",
    "rotate_arr(arr,k) # Calls the rotate_arr to  rotate the array 'k' times\n",
    "print(arr)"
   ]
  },
  {
   "cell_type": "raw",
   "id": "224de4a8-4945-485b-8060-b29527f978d0",
   "metadata": {},
   "source": [
    "1.Function reverse_arr:\n",
    "Purpose: Reverses the portion of the array from index sI (start index) to eI (end index).\n",
    "Loop: Swaps elements at the start (sI) and end (eI), then moves inward by incrementing sI and decrementing eI until they meet or cross.\n",
    "\n",
    "2.Function rotate_arr:\n",
    "Purpose: Rotates the array arr to the right by k steps.\n",
    "Step 1: k = k % len(arr) ensures that if k is larger than the array length, we only rotate by the remainder, as rotating n times (where n is the array length) gives the same array.\n",
    "\n",
    "Step 2:(Reverse the entire array):\n",
    "This call reverses the entire array from index 0 to len(arr)-1.\n",
    "Example: For [1, 2, 3, 4, 5, 6, 7], the result after reversing is [7, 6, 5, 4, 3, 2, 1].\n",
    "#reverse_arr(arr, 0, len(arr)-1)\n",
    "\n",
    "Step 3 (Reverse the first k elements):\n",
    "Reverses the first k elements (from index 0 to k-1).\n",
    "Example: For k = 3, it reverses [7, 6, 5] to [5, 6, 7].\n",
    "#reverse_arr(arr, 0, k-1)\n",
    "\n",
    "Step 4 (Reverse the remaining n-k elements):\n",
    "Reverses the elements from index k to len(arr)-1.\n",
    "Example: For k = 3, it reverses [4, 3, 2, 1] to [1, 2, 3, 4].\n",
    "#reverse_arr(arr, k, len(arr)-1)\n",
    "\n"
   ]
  },
  {
   "cell_type": "raw",
   "id": "4b572d52-5186-4c19-bd49-ff91a7bf1f0a",
   "metadata": {},
   "source": [
    "3.Reverse the given array in-place, means without using any extra data structure.\n",
    "arr = [2, 4, 5, 7, 9, 12]\n",
    "Output = [12, 9, 7, 5, 4, 2]"
   ]
  },
  {
   "cell_type": "code",
   "execution_count": null,
   "id": "28352b97-c4f9-464e-80b4-eb3136596bfa",
   "metadata": {},
   "outputs": [
    {
     "name": "stdout",
     "output_type": "stream",
     "text": [
      "[12, 9, 7, 5, 4, 2]\n"
     ]
    }
   ],
   "source": [
    "#Method  Definition\n",
    "def reverse_arr(arr,sI,eI):\n",
    "    # Swap elements until the start pointer meets the end pointer\n",
    "    while(sI < eI):\n",
    "        # Swap the elements\n",
    "        arr[sI] , arr[eI] = arr[eI] , arr[sI]\n",
    "        sI+=1 #move start pointer right\n",
    "        eI-=1 #move start pointer left\n",
    "#Driver code\n",
    "arr = [2, 4, 5, 7, 9, 12]\n",
    "reverse_arr(arr,0,len(arr)-1) #Calls reverse_arr to reverse the entire array (0 to 5)\n",
    "print(arr) \n"
   ]
  },
  {
   "cell_type": "raw",
   "id": "ade8ef15-b70b-44bb-bea3-dc7cc55acff4",
   "metadata": {},
   "source": [
    "1.Function Definition:\n",
    "def reverse_arr(arr, sI, eI):\n",
    "Defines the function reverse_arr that takes three parameters:\n",
    "arr: The array to be reversed.\n",
    "sI: The starting index of the section to be reversed.\n",
    "eI: The ending index of the section to be reversed.\n",
    "\n",
    "2.While Loop:\n",
    "while(sI < eI):\n",
    "Continues the loop as long as sI (start index) is less than eI (end index).\n",
    "\n",
    "3.Swapping Elements:\n",
    "arr[sI], arr[eI] = arr[eI], arr[sI]\n",
    "Swaps the elements at indices sI and eI.\n",
    "\n",
    "4.Move Pointers:\n",
    "sI += 1\n",
    "eI -= 1\n",
    "Increments sI (move start pointer right) and decrements eI (move end pointer left) to continue the swapping process inward."
   ]
  },
  {
   "cell_type": "raw",
   "id": "70c4c369-e122-4fbe-b756-39811a0bf8e0",
   "metadata": {},
   "source": [
    "4.Given an array of integers, find the maximum element in an array\n",
    "arr = [10, 5, 20, 8, 15]\n",
    "Output = 20"
   ]
  },
  {
   "cell_type": "code",
   "execution_count": 8,
   "id": "f9852a55-d87a-4ace-a5c6-4c8b95a46cdd",
   "metadata": {},
   "outputs": [
    {
     "name": "stdout",
     "output_type": "stream",
     "text": [
      "20\n"
     ]
    }
   ],
   "source": [
    "#Method Defintion\n",
    "def max_element(arr):\n",
    "    max_value = arr[0]\n",
    "    for i in range(1,len(arr)):\n",
    "        if arr[i]>max_value:\n",
    "            max_value = arr[i]\n",
    "            \n",
    "    return max_value  \n",
    "#Driver Code\n",
    "arr = [10, 5, 20, 8, 15]\n",
    "result = max_element(arr) #Calls the max_element function with arr and stores the result in result.\n",
    "print(result)"
   ]
  },
  {
   "cell_type": "raw",
   "id": "6624ebea-34d7-48d8-954e-1a06b5ecd095",
   "metadata": {},
   "source": [
    "1.Function Definition:\n",
    "max_element(arr): Defines a function to find the maximum element in the array arr.\n",
    "\n",
    "2.Initialize Maximum Value:\n",
    "\n",
    "max_value = arr[0]: Sets max_value to the first element of the array. This serves as the initial maximum value.\n",
    "\n",
    "3.Loop Through Array:\n",
    "for i in range(1, len(arr)): Iterates over the array starting from index 1 to the end of the array.\n",
    "\n",
    "4.Compare and Update Maximum:\n",
    "if arr[i] > max_value: Checks if the current element arr[i] is greater than the current max_value.\n",
    "max_value = arr[i]: If the condition is true, update max_value to the current element arr[i].\n",
    "\n",
    "5.Return Result:\n",
    "return max_value: Returns the largest value found in the array.\n",
    "\n"
   ]
  },
  {
   "cell_type": "raw",
   "id": "ac68225c-31cf-41b0-a527-85942eeef622",
   "metadata": {},
   "source": [
    "5.Given a sorted array, remove the duplicate element without using any extra data structure.\n",
    "arr = [1, 1, 2, 2, 2, 3, 3, 4, 4, 4, 5, 5]\n",
    "Output = [1, 2, 3, 4, 5]"
   ]
  },
  {
   "cell_type": "code",
   "execution_count": 32,
   "id": "f3d4df4d-1fdd-4726-a8d7-9781de2b71e9",
   "metadata": {},
   "outputs": [
    {
     "name": "stdout",
     "output_type": "stream",
     "text": [
      "[1, 2, 3, 4, 5]\n"
     ]
    }
   ],
   "source": [
    "def remove_duplicates(arr):\n",
    "    if not arr:\n",
    "        return arr  # Return the array if it's empty\n",
    "    \n",
    "    # Initialize the index of the last unique element\n",
    "    unique_index = 0\n",
    "    \n",
    "    # Iterate through the array starting from the second element\n",
    "    for i in range(1, len(arr)):\n",
    "        if arr[i] != arr[unique_index]:\n",
    "            # Update the next position for the unique element\n",
    "            unique_index += 1\n",
    "            arr[unique_index] = arr[i]\n",
    "    \n",
    "    # Return the array truncated to the number of unique elements\n",
    "    return arr[:unique_index +1]\n",
    "\n",
    "# Example usage:\n",
    "arr = [1, 1, 2, 2, 2, 3, 3, 4, 4, 4, 5, 5]\n",
    "result = remove_duplicates(arr)\n",
    "print(result)\n"
   ]
  },
  {
   "cell_type": "raw",
   "id": "050d9166-9c0b-42be-9e58-62fb559a67fd",
   "metadata": {},
   "source": [
    "1.Function Definition:\n",
    "def remove_duplicates(arr):\n",
    "Defines the function remove_duplicates to remove duplicates from the sorted array arr.\n",
    "\n",
    "2.Check for Empty Array:\n",
    "if not arr:\n",
    "    return arr\n",
    "Returns the array as-is if it is empty.\n",
    "\n",
    "3.Initialize unique_index:\n",
    "unique_index = 0\n",
    "unique_index tracks the position of the last unique element in the array.\n",
    "\n",
    "4.Iterate through the Array:\n",
    "for i in range(1, len(arr)):\n",
    "Iterates from the second element (index 1) to the end of the array.\n",
    "\n",
    "5.Compare and Update Unique Elements:\n",
    "if arr[i] != arr[unique_index]:\n",
    "    unique_index += 1\n",
    "    arr[unique_index] = arr[i]\n",
    "Checks if the current element arr[i] is different from the last unique element arr[unique_index].\n",
    "If different, increments unique_index and updates arr[unique_index] with arr[i].\n",
    "\n",
    "6.Return the Unique Array:\n",
    "return arr[:unique_index + 1]\n",
    "Returns the array sliced up to unique_index + 1, containing only the unique elements."
   ]
  },
  {
   "cell_type": "code",
   "execution_count": null,
   "id": "2cf2cc83-056e-4a0a-a3a0-9dd5e108c61d",
   "metadata": {},
   "outputs": [],
   "source": []
  }
 ],
 "metadata": {
  "kernelspec": {
   "display_name": "Python 3 (ipykernel)",
   "language": "python",
   "name": "python3"
  },
  "language_info": {
   "codemirror_mode": {
    "name": "ipython",
    "version": 3
   },
   "file_extension": ".py",
   "mimetype": "text/x-python",
   "name": "python",
   "nbconvert_exporter": "python",
   "pygments_lexer": "ipython3",
   "version": "3.10.8"
  }
 },
 "nbformat": 4,
 "nbformat_minor": 5
}
